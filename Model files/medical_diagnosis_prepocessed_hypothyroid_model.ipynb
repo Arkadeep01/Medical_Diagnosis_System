{
 "cells": [
  {
   "cell_type": "code",
   "execution_count": 1,
   "id": "f3f08f6b-7ea5-45e0-a8a6-0d8a4f360de4",
   "metadata": {},
   "outputs": [
    {
     "name": "stdout",
     "output_type": "stream",
     "text": [
      "<class 'pandas.core.frame.DataFrame'>\n",
      "RangeIndex: 3772 entries, 0 to 3771\n",
      "Data columns (total 8 columns):\n",
      " #   Column        Non-Null Count  Dtype  \n",
      "---  ------        --------------  -----  \n",
      " 0   age           3772 non-null   float64\n",
      " 1   sex           3772 non-null   float64\n",
      " 2   on thyroxine  3772 non-null   int64  \n",
      " 3   TSH           3772 non-null   float64\n",
      " 4   T3 measured   3772 non-null   int64  \n",
      " 5   T3            3772 non-null   float64\n",
      " 6   TT4           3772 non-null   float64\n",
      " 7   binaryClass   3772 non-null   int64  \n",
      "dtypes: float64(5), int64(3)\n",
      "memory usage: 235.9 KB\n",
      "None\n",
      "    age  sex  on thyroxine   TSH  T3 measured      T3    TT4  binaryClass\n",
      "0  41.0  1.0             0  1.30            1  2.5000  125.0            0\n",
      "1  23.0  1.0             0  4.10            1  2.0000  102.0            0\n",
      "2  46.0  0.0             0  0.98            0  2.0135  109.0            0\n",
      "3  70.0  1.0             1  0.16            1  1.9000  175.0            0\n",
      "4  70.0  1.0             0  0.72            1  1.2000   61.0            0\n",
      "age             0\n",
      "sex             0\n",
      "on thyroxine    0\n",
      "TSH             0\n",
      "T3 measured     0\n",
      "T3              0\n",
      "TT4             0\n",
      "binaryClass     0\n",
      "dtype: int64\n"
     ]
    }
   ],
   "source": [
    "import pandas as pd\n",
    "\n",
    "file_path = r\"C:\\Users\\LENOVO\\OneDrive\\AICTE\\AI Medical Diagnosis System\\Dataset Text Based\\prepocessed_hypothyroid.csv\"\n",
    "df = pd.read_csv(file_path)\n",
    "print(df.info())\n",
    "print(df.head())\n",
    "\n",
    "print(df.isnull().sum())"
   ]
  },
  {
   "cell_type": "code",
   "execution_count": 2,
   "id": "2eb2bd5f-3028-44d7-9251-5c834864ec4f",
   "metadata": {},
   "outputs": [
    {
     "name": "stdout",
     "output_type": "stream",
     "text": [
      "Index(['age', 'sex', 'on thyroxine', 'TSH', 'T3 measured', 'T3', 'TT4',\n",
      "       'binaryClass'],\n",
      "      dtype='object')\n"
     ]
    }
   ],
   "source": [
    "print(df.columns)"
   ]
  },
  {
   "cell_type": "code",
   "execution_count": 3,
   "id": "ef1ea941-6707-4939-b2a8-f4dc0646e25f",
   "metadata": {},
   "outputs": [
    {
     "name": "stdout",
     "output_type": "stream",
     "text": [
      "✅ Data Preprocessing Complete!\n"
     ]
    }
   ],
   "source": [
    "from sklearn.model_selection import train_test_split\n",
    "from sklearn.preprocessing import LabelEncoder, StandardScaler, OrdinalEncoder\n",
    "from sklearn.impute import SimpleImputer\n",
    "import pandas as pd\n",
    "import numpy as np\n",
    "\n",
    "# Specify the target column\n",
    "target_col = \"on thyroxine\"\n",
    "\n",
    "# Handle missing values using median imputation\n",
    "imputer = SimpleImputer(strategy=\"median\")\n",
    "df[df.columns] = imputer.fit_transform(df)\n",
    "\n",
    "# Identify categorical columns (excluding the target)\n",
    "cat_cols = df.select_dtypes(include=[\"object\"]).columns.tolist()\n",
    "if target_col in cat_cols:\n",
    "    cat_cols.remove(target_col)\n",
    "\n",
    "# Encode categorical columns\n",
    "if cat_cols:\n",
    "    encoder = OrdinalEncoder()\n",
    "    df[cat_cols] = encoder.fit_transform(df[cat_cols])\n",
    "\n",
    "# Encode the target column\n",
    "target_encoder = LabelEncoder()\n",
    "df[target_col] = target_encoder.fit_transform(df[target_col])\n",
    "\n",
    "# Separate features and target\n",
    "X = df.drop(columns=[target_col])\n",
    "y = df[target_col]\n",
    "\n",
    "# Standardize only numerical features\n",
    "num_cols = X.select_dtypes(include=[\"number\"]).columns\n",
    "scaler = StandardScaler()\n",
    "X[num_cols] = scaler.fit_transform(X[num_cols])\n",
    "\n",
    "# Convert back to DataFrame (optional)\n",
    "X = pd.DataFrame(X, columns=df.drop(columns=[target_col]).columns)\n",
    "\n",
    "# Split into training and test sets\n",
    "X_train, X_test, y_train, y_test = train_test_split(X, y, test_size=0.2, random_state=42, stratify=y)\n",
    "\n",
    "print(\"✅ Data Preprocessing Complete!\")\n"
   ]
  },
  {
   "cell_type": "code",
   "execution_count": 4,
   "id": "bd77eded-dcbb-465e-8176-1217f6bad217",
   "metadata": {},
   "outputs": [
    {
     "name": "stdout",
     "output_type": "stream",
     "text": [
      "SVM Accuracy: 0.8768211920529801\n",
      "Logistic Regression Accuracy: 0.8781456953642384\n",
      "Random Forest Accuracy: 0.8807947019867549\n",
      "\n",
      "SVM Classification Report:\n",
      "               precision    recall  f1-score   support\n",
      "\n",
      "           0       0.88      1.00      0.93       662\n",
      "           1       0.00      0.00      0.00        93\n",
      "\n",
      "    accuracy                           0.88       755\n",
      "   macro avg       0.44      0.50      0.47       755\n",
      "weighted avg       0.77      0.88      0.82       755\n",
      "\n",
      "\n",
      "Logistic Regression Classification Report:\n",
      "               precision    recall  f1-score   support\n",
      "\n",
      "           0       0.89      0.99      0.93       662\n",
      "           1       0.53      0.09      0.15        93\n",
      "\n",
      "    accuracy                           0.88       755\n",
      "   macro avg       0.71      0.54      0.54       755\n",
      "weighted avg       0.84      0.88      0.84       755\n",
      "\n",
      "\n",
      "Random Forest Classification Report:\n",
      "               precision    recall  f1-score   support\n",
      "\n",
      "           0       0.90      0.97      0.93       662\n",
      "           1       0.54      0.22      0.31        93\n",
      "\n",
      "    accuracy                           0.88       755\n",
      "   macro avg       0.72      0.59      0.62       755\n",
      "weighted avg       0.85      0.88      0.86       755\n",
      "\n"
     ]
    },
    {
     "name": "stderr",
     "output_type": "stream",
     "text": [
      "C:\\anaconda navigator\\Lib\\site-packages\\sklearn\\metrics\\_classification.py:1531: UndefinedMetricWarning: Precision is ill-defined and being set to 0.0 in labels with no predicted samples. Use `zero_division` parameter to control this behavior.\n",
      "  _warn_prf(average, modifier, f\"{metric.capitalize()} is\", len(result))\n",
      "C:\\anaconda navigator\\Lib\\site-packages\\sklearn\\metrics\\_classification.py:1531: UndefinedMetricWarning: Precision is ill-defined and being set to 0.0 in labels with no predicted samples. Use `zero_division` parameter to control this behavior.\n",
      "  _warn_prf(average, modifier, f\"{metric.capitalize()} is\", len(result))\n",
      "C:\\anaconda navigator\\Lib\\site-packages\\sklearn\\metrics\\_classification.py:1531: UndefinedMetricWarning: Precision is ill-defined and being set to 0.0 in labels with no predicted samples. Use `zero_division` parameter to control this behavior.\n",
      "  _warn_prf(average, modifier, f\"{metric.capitalize()} is\", len(result))\n"
     ]
    }
   ],
   "source": [
    "from sklearn.svm import SVC\n",
    "from sklearn.linear_model import LogisticRegression\n",
    "from sklearn.ensemble import RandomForestClassifier\n",
    "from sklearn.metrics import accuracy_score, classification_report\n",
    "\n",
    "# Train Support Vector Machine (SVM)\n",
    "svm_model = SVC(kernel='linear', random_state=42)\n",
    "svm_model.fit(X_train, y_train)\n",
    "svm_pred = svm_model.predict(X_test)\n",
    "\n",
    "# Train Logistic Regression\n",
    "log_reg = LogisticRegression(random_state=42)\n",
    "log_reg.fit(X_train, y_train)\n",
    "log_pred = log_reg.predict(X_test)\n",
    "\n",
    "# Train Random Forest\n",
    "rf_model = RandomForestClassifier(n_estimators=100, random_state=42)\n",
    "rf_model.fit(X_train, y_train)\n",
    "rf_pred = rf_model.predict(X_test)\n",
    "\n",
    "# Evaluate Models\n",
    "print(\"SVM Accuracy:\", accuracy_score(y_test, svm_pred))\n",
    "print(\"Logistic Regression Accuracy:\", accuracy_score(y_test, log_pred))\n",
    "print(\"Random Forest Accuracy:\", accuracy_score(y_test, rf_pred))\n",
    "\n",
    "# Display Classification Reports\n",
    "print(\"\\nSVM Classification Report:\\n\", classification_report(y_test, svm_pred))\n",
    "print(\"\\nLogistic Regression Classification Report:\\n\", classification_report(y_test, log_pred))\n",
    "print(\"\\nRandom Forest Classification Report:\\n\", classification_report(y_test, rf_pred))"
   ]
  },
  {
   "cell_type": "code",
   "execution_count": 5,
   "id": "fe04d039-12ec-409f-b087-76addfd05f93",
   "metadata": {},
   "outputs": [
    {
     "name": "stdout",
     "output_type": "stream",
     "text": [
      "[LightGBM] [Warning] Found whitespace in feature_names, replace with underlines\n",
      "[LightGBM] [Info] Number of positive: 371, number of negative: 2646\n",
      "[LightGBM] [Info] Auto-choosing col-wise multi-threading, the overhead of testing was 0.000359 seconds.\n",
      "You can set `force_col_wise=true` to remove the overhead.\n",
      "[LightGBM] [Info] Total Bins 531\n",
      "[LightGBM] [Info] Number of data points in the train set: 3017, number of used features: 7\n",
      "[LightGBM] [Info] [binary:BoostFromScore]: pavg=0.122970 -> initscore=-1.964602\n",
      "[LightGBM] [Info] Start training from score -1.964602\n",
      "Model saved as prepocessed_hypothyroid_model.sav\n"
     ]
    }
   ],
   "source": [
    "from lightgbm import LGBMClassifier\n",
    "import joblib\n",
    "\n",
    "# Train the model (example)\n",
    "best_lgbm = LGBMClassifier()\n",
    "best_lgbm.fit(X_train, y_train)  # Ensure X_train and y_train are defined\n",
    "\n",
    "# Save the trained model\n",
    "model_filename = \"prepocessed_hypothyroid_model.sav\"\n",
    "joblib.dump(best_lgbm, model_filename)\n",
    "print(f\"Model saved as {model_filename}\")"
   ]
  },
  {
   "cell_type": "code",
   "execution_count": null,
   "id": "3d2ec37d-fc13-48e5-8c93-73ee5fe48b85",
   "metadata": {},
   "outputs": [],
   "source": []
  }
 ],
 "metadata": {
  "kernelspec": {
   "display_name": "Python 3 (ipykernel)",
   "language": "python",
   "name": "python3"
  },
  "language_info": {
   "codemirror_mode": {
    "name": "ipython",
    "version": 3
   },
   "file_extension": ".py",
   "mimetype": "text/x-python",
   "name": "python",
   "nbconvert_exporter": "python",
   "pygments_lexer": "ipython3",
   "version": "3.12.7"
  }
 },
 "nbformat": 4,
 "nbformat_minor": 5
}
